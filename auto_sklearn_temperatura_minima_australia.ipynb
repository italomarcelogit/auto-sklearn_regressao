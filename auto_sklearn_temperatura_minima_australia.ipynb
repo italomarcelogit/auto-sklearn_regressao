{
  "nbformat": 4,
  "nbformat_minor": 0,
  "metadata": {
    "colab": {
      "name": "auto-sklearn_temperatura_minima_australia",
      "provenance": [],
      "collapsed_sections": [],
      "authorship_tag": "ABX9TyOsAdNEoajNQC0bEpmgLqnD",
      "include_colab_link": true
    },
    "kernelspec": {
      "name": "python3",
      "display_name": "Python 3"
    },
    "language_info": {
      "name": "python"
    }
  },
  "cells": [
    {
      "cell_type": "markdown",
      "metadata": {
        "id": "view-in-github",
        "colab_type": "text"
      },
      "source": [
        "<a href=\"https://colab.research.google.com/github/italomarcelogit/auto-sklearn_regressao/blob/main/auto_sklearn_temperatura_minima_australia.ipynb\" target=\"_parent\"><img src=\"https://colab.research.google.com/assets/colab-badge.svg\" alt=\"Open In Colab\"/></a>"
      ]
    },
    {
      "cell_type": "markdown",
      "metadata": {
        "id": "oXGSvtt4c3Ku"
      },
      "source": [
        "# **Libs**"
      ]
    },
    {
      "cell_type": "code",
      "metadata": {
        "id": "nSkbEtlci45i",
        "colab": {
          "base_uri": "https://localhost:8080/"
        },
        "outputId": "4637d083-b723-4e97-927c-7fa4ba55ec23"
      },
      "source": [
        "import pandas as pd\n",
        "import numpy as np\n",
        "import sklearn.metrics\n",
        "from datetime import datetime\n",
        "!pip install --upgrade -q pip\n",
        "!pip install --upgrade -q scipy==1.7.1\n",
        "!pip install -q auto-sklearn\n",
        "import plotly.graph_objects as go"
      ],
      "execution_count": 1,
      "outputs": [
        {
          "output_type": "stream",
          "name": "stdout",
          "text": [
            "\u001b[33mWARNING: Running pip as the 'root' user can result in broken permissions and conflicting behaviour with the system package manager. It is recommended to use a virtual environment instead: https://pip.pypa.io/warnings/venv\u001b[0m\n",
            "\u001b[33mWARNING: Running pip as the 'root' user can result in broken permissions and conflicting behaviour with the system package manager. It is recommended to use a virtual environment instead: https://pip.pypa.io/warnings/venv\u001b[0m\n",
            "\u001b[33mWARNING: Running pip as the 'root' user can result in broken permissions and conflicting behaviour with the system package manager. It is recommended to use a virtual environment instead: https://pip.pypa.io/warnings/venv\u001b[0m\n"
          ]
        }
      ]
    },
    {
      "cell_type": "markdown",
      "metadata": {
        "id": "bKBy-BdEXuHC"
      },
      "source": [
        "**IMPORTANTE:**\n",
        "Após as importações e instalações anteriores, reinicie o ambiente"
      ]
    },
    {
      "cell_type": "code",
      "metadata": {
        "id": "SJGOAy-qXrnx"
      },
      "source": [
        "import autosklearn.regression"
      ],
      "execution_count": 2,
      "outputs": []
    },
    {
      "cell_type": "markdown",
      "metadata": {
        "id": "EDnZxOiadAp1"
      },
      "source": [
        "# **Dataset**\n",
        "*A fonte dos dados é creditada como Australian Bureau of Meteorology.*\n",
        "\n",
        "*The source of the data is credited to the Australian Bureau of Meteorology.*"
      ]
    },
    {
      "cell_type": "code",
      "metadata": {
        "colab": {
          "base_uri": "https://localhost:8080/",
          "height": 203
        },
        "id": "1UBicRshk1N7",
        "outputId": "3d01de1d-888f-4159-cb7c-052518cb098a"
      },
      "source": [
        "#  A fonte dos dados é creditada como Australian Bureau of Meteorology.\n",
        "#  The source of the data is credited to the Australian Bureau of Meteorology.\n",
        "url = 'https://raw.githubusercontent.com/jbrownlee/Datasets/master/daily-min-temperatures.csv'\n",
        "df = pd.read_csv(url)\n",
        "df.columns = ['ds', 'y']\n",
        "df.head()"
      ],
      "execution_count": 3,
      "outputs": [
        {
          "output_type": "execute_result",
          "data": {
            "text/html": [
              "<div>\n",
              "<style scoped>\n",
              "    .dataframe tbody tr th:only-of-type {\n",
              "        vertical-align: middle;\n",
              "    }\n",
              "\n",
              "    .dataframe tbody tr th {\n",
              "        vertical-align: top;\n",
              "    }\n",
              "\n",
              "    .dataframe thead th {\n",
              "        text-align: right;\n",
              "    }\n",
              "</style>\n",
              "<table border=\"1\" class=\"dataframe\">\n",
              "  <thead>\n",
              "    <tr style=\"text-align: right;\">\n",
              "      <th></th>\n",
              "      <th>ds</th>\n",
              "      <th>y</th>\n",
              "    </tr>\n",
              "  </thead>\n",
              "  <tbody>\n",
              "    <tr>\n",
              "      <th>0</th>\n",
              "      <td>1981-01-01</td>\n",
              "      <td>20.7</td>\n",
              "    </tr>\n",
              "    <tr>\n",
              "      <th>1</th>\n",
              "      <td>1981-01-02</td>\n",
              "      <td>17.9</td>\n",
              "    </tr>\n",
              "    <tr>\n",
              "      <th>2</th>\n",
              "      <td>1981-01-03</td>\n",
              "      <td>18.8</td>\n",
              "    </tr>\n",
              "    <tr>\n",
              "      <th>3</th>\n",
              "      <td>1981-01-04</td>\n",
              "      <td>14.6</td>\n",
              "    </tr>\n",
              "    <tr>\n",
              "      <th>4</th>\n",
              "      <td>1981-01-05</td>\n",
              "      <td>15.8</td>\n",
              "    </tr>\n",
              "  </tbody>\n",
              "</table>\n",
              "</div>"
            ],
            "text/plain": [
              "           ds     y\n",
              "0  1981-01-01  20.7\n",
              "1  1981-01-02  17.9\n",
              "2  1981-01-03  18.8\n",
              "3  1981-01-04  14.6\n",
              "4  1981-01-05  15.8"
            ]
          },
          "metadata": {},
          "execution_count": 3
        }
      ]
    },
    {
      "cell_type": "markdown",
      "metadata": {
        "id": "5P54Zl28dgk1"
      },
      "source": [
        "# **Pre-Processing**"
      ]
    },
    {
      "cell_type": "code",
      "metadata": {
        "colab": {
          "base_uri": "https://localhost:8080/",
          "height": 203
        },
        "id": "QUPTLpcSmNRx",
        "outputId": "09606ef1-3786-42e9-d5e8-17fd76a55f22"
      },
      "source": [
        "df2 = df.copy()\n",
        "# diaAno == day of year from ds\n",
        "df2['diaAno'] = df2.ds.apply(lambda x: pd.to_datetime([x]).dayofyear[0])\n",
        "# ano == year from ds\n",
        "df2['ano'] = df2.ds.apply(lambda x: pd.to_datetime([x]).year[0])\n",
        "df2.pop('ds')\n",
        "df2.head()"
      ],
      "execution_count": 4,
      "outputs": [
        {
          "output_type": "execute_result",
          "data": {
            "text/html": [
              "<div>\n",
              "<style scoped>\n",
              "    .dataframe tbody tr th:only-of-type {\n",
              "        vertical-align: middle;\n",
              "    }\n",
              "\n",
              "    .dataframe tbody tr th {\n",
              "        vertical-align: top;\n",
              "    }\n",
              "\n",
              "    .dataframe thead th {\n",
              "        text-align: right;\n",
              "    }\n",
              "</style>\n",
              "<table border=\"1\" class=\"dataframe\">\n",
              "  <thead>\n",
              "    <tr style=\"text-align: right;\">\n",
              "      <th></th>\n",
              "      <th>y</th>\n",
              "      <th>diaAno</th>\n",
              "      <th>ano</th>\n",
              "    </tr>\n",
              "  </thead>\n",
              "  <tbody>\n",
              "    <tr>\n",
              "      <th>0</th>\n",
              "      <td>20.7</td>\n",
              "      <td>1</td>\n",
              "      <td>1981</td>\n",
              "    </tr>\n",
              "    <tr>\n",
              "      <th>1</th>\n",
              "      <td>17.9</td>\n",
              "      <td>2</td>\n",
              "      <td>1981</td>\n",
              "    </tr>\n",
              "    <tr>\n",
              "      <th>2</th>\n",
              "      <td>18.8</td>\n",
              "      <td>3</td>\n",
              "      <td>1981</td>\n",
              "    </tr>\n",
              "    <tr>\n",
              "      <th>3</th>\n",
              "      <td>14.6</td>\n",
              "      <td>4</td>\n",
              "      <td>1981</td>\n",
              "    </tr>\n",
              "    <tr>\n",
              "      <th>4</th>\n",
              "      <td>15.8</td>\n",
              "      <td>5</td>\n",
              "      <td>1981</td>\n",
              "    </tr>\n",
              "  </tbody>\n",
              "</table>\n",
              "</div>"
            ],
            "text/plain": [
              "      y  diaAno   ano\n",
              "0  20.7       1  1981\n",
              "1  17.9       2  1981\n",
              "2  18.8       3  1981\n",
              "3  14.6       4  1981\n",
              "4  15.8       5  1981"
            ]
          },
          "metadata": {},
          "execution_count": 4
        }
      ]
    },
    {
      "cell_type": "code",
      "metadata": {
        "colab": {
          "base_uri": "https://localhost:8080/"
        },
        "id": "iCA5cQ28bofj",
        "outputId": "ec79836a-08a9-4786-f0fc-723d71749ff2"
      },
      "source": [
        "df2.ano.min(), df2.ano.max()"
      ],
      "execution_count": 5,
      "outputs": [
        {
          "output_type": "execute_result",
          "data": {
            "text/plain": [
              "(1981, 1990)"
            ]
          },
          "metadata": {},
          "execution_count": 5
        }
      ]
    },
    {
      "cell_type": "code",
      "metadata": {
        "id": "pBibaD6ln-xX"
      },
      "source": [
        "ano = 1990\n",
        "Xtreino = df2[df2.ano<ano][['diaAno', 'ano']]\n",
        "ytreino = df2[df2.ano<ano]['y']\n",
        "Xteste = df2[df2.ano>=ano][['diaAno', 'ano']]\n",
        "yteste = df2[df2.ano>=ano]['y']"
      ],
      "execution_count": 6,
      "outputs": []
    },
    {
      "cell_type": "markdown",
      "metadata": {
        "id": "4i3jqb6BdmM1"
      },
      "source": [
        "# **Model Auto-Sklearn**"
      ]
    },
    {
      "cell_type": "code",
      "metadata": {
        "id": "GscmW2RLovUe"
      },
      "source": [
        "automl = autosklearn.regression.AutoSklearnRegressor(\n",
        "    time_left_for_this_task=120,\n",
        "    per_run_time_limit=30,\n",
        "    tmp_folder='/content/your_directory',\n",
        ")"
      ],
      "execution_count": 7,
      "outputs": []
    },
    {
      "cell_type": "code",
      "metadata": {
        "id": "bePVmgnqo3aM",
        "colab": {
          "base_uri": "https://localhost:8080/"
        },
        "outputId": "782f643b-2f27-42e4-f58e-e10b4a87941a"
      },
      "source": [
        "automl.fit(Xtreino, ytreino)"
      ],
      "execution_count": 8,
      "outputs": [
        {
          "output_type": "execute_result",
          "data": {
            "text/plain": [
              "AutoSklearnRegressor(per_run_time_limit=30, time_left_for_this_task=120,\n",
              "                     tmp_folder='/content/your_directory')"
            ]
          },
          "metadata": {},
          "execution_count": 8
        }
      ]
    },
    {
      "cell_type": "code",
      "metadata": {
        "colab": {
          "base_uri": "https://localhost:8080/",
          "height": 203
        },
        "id": "QxNj3PsqpHGU",
        "outputId": "717da1b0-476a-4af5-c6eb-ea4f53fd7426"
      },
      "source": [
        "automl.leaderboard()"
      ],
      "execution_count": 9,
      "outputs": [
        {
          "output_type": "execute_result",
          "data": {
            "text/html": [
              "<div>\n",
              "<style scoped>\n",
              "    .dataframe tbody tr th:only-of-type {\n",
              "        vertical-align: middle;\n",
              "    }\n",
              "\n",
              "    .dataframe tbody tr th {\n",
              "        vertical-align: top;\n",
              "    }\n",
              "\n",
              "    .dataframe thead th {\n",
              "        text-align: right;\n",
              "    }\n",
              "</style>\n",
              "<table border=\"1\" class=\"dataframe\">\n",
              "  <thead>\n",
              "    <tr style=\"text-align: right;\">\n",
              "      <th></th>\n",
              "      <th>rank</th>\n",
              "      <th>ensemble_weight</th>\n",
              "      <th>type</th>\n",
              "      <th>cost</th>\n",
              "      <th>duration</th>\n",
              "    </tr>\n",
              "    <tr>\n",
              "      <th>model_id</th>\n",
              "      <th></th>\n",
              "      <th></th>\n",
              "      <th></th>\n",
              "      <th></th>\n",
              "      <th></th>\n",
              "    </tr>\n",
              "  </thead>\n",
              "  <tbody>\n",
              "    <tr>\n",
              "      <th>14</th>\n",
              "      <td>1</td>\n",
              "      <td>0.52</td>\n",
              "      <td>extra_trees</td>\n",
              "      <td>0.382564</td>\n",
              "      <td>2.652869</td>\n",
              "    </tr>\n",
              "    <tr>\n",
              "      <th>11</th>\n",
              "      <td>2</td>\n",
              "      <td>0.28</td>\n",
              "      <td>random_forest</td>\n",
              "      <td>0.388911</td>\n",
              "      <td>3.964741</td>\n",
              "    </tr>\n",
              "    <tr>\n",
              "      <th>8</th>\n",
              "      <td>3</td>\n",
              "      <td>0.16</td>\n",
              "      <td>mlp</td>\n",
              "      <td>0.487689</td>\n",
              "      <td>2.602429</td>\n",
              "    </tr>\n",
              "    <tr>\n",
              "      <th>10</th>\n",
              "      <td>4</td>\n",
              "      <td>0.04</td>\n",
              "      <td>sgd</td>\n",
              "      <td>0.932299</td>\n",
              "      <td>0.703084</td>\n",
              "    </tr>\n",
              "  </tbody>\n",
              "</table>\n",
              "</div>"
            ],
            "text/plain": [
              "          rank  ensemble_weight           type      cost  duration\n",
              "model_id                                                          \n",
              "14           1             0.52    extra_trees  0.382564  2.652869\n",
              "11           2             0.28  random_forest  0.388911  3.964741\n",
              "8            3             0.16            mlp  0.487689  2.602429\n",
              "10           4             0.04            sgd  0.932299  0.703084"
            ]
          },
          "metadata": {},
          "execution_count": 9
        }
      ]
    },
    {
      "cell_type": "code",
      "metadata": {
        "id": "oV41e9GapJzC",
        "colab": {
          "base_uri": "https://localhost:8080/",
          "height": 137
        },
        "outputId": "9714c85e-0917-4acb-ffa9-1d786d1ca2df"
      },
      "source": [
        "automl.show_models()"
      ],
      "execution_count": 10,
      "outputs": [
        {
          "output_type": "execute_result",
          "data": {
            "application/vnd.google.colaboratory.intrinsic+json": {
              "type": "string"
            },
            "text/plain": [
              "\"[(0.520000, SimpleRegressionPipeline({'data_preprocessing:categorical_transformer:categorical_encoding:__choice__': 'no_encoding', 'data_preprocessing:categorical_transformer:category_coalescence:__choice__': 'no_coalescense', 'data_preprocessing:numerical_transformer:imputation:strategy': 'most_frequent', 'data_preprocessing:numerical_transformer:rescaling:__choice__': 'minmax', 'feature_preprocessor:__choice__': 'polynomial', 'regressor:__choice__': 'extra_trees', 'feature_preprocessor:polynomial:degree': 2, 'feature_preprocessor:polynomial:include_bias': 'False', 'feature_preprocessor:polynomial:interaction_only': 'True', 'regressor:extra_trees:bootstrap': 'False', 'regressor:extra_trees:criterion': 'mse', 'regressor:extra_trees:max_depth': 'None', 'regressor:extra_trees:max_features': 0.9797793053686011, 'regressor:extra_trees:max_leaf_nodes': 'None', 'regressor:extra_trees:min_impurity_decrease': 0.0, 'regressor:extra_trees:min_samples_leaf': 1, 'regressor:extra_trees:min_samples_split': 4, 'regressor:extra_trees:min_weight_fraction_leaf': 0.0},\\ndataset_properties={\\n  'task': 4,\\n  'sparse': False,\\n  'multioutput': False,\\n  'target_type': 'regression',\\n  'signed': False})),\\n(0.280000, SimpleRegressionPipeline({'data_preprocessing:categorical_transformer:categorical_encoding:__choice__': 'no_encoding', 'data_preprocessing:categorical_transformer:category_coalescence:__choice__': 'minority_coalescer', 'data_preprocessing:numerical_transformer:imputation:strategy': 'mean', 'data_preprocessing:numerical_transformer:rescaling:__choice__': 'robust_scaler', 'feature_preprocessor:__choice__': 'fast_ica', 'regressor:__choice__': 'random_forest', 'data_preprocessing:categorical_transformer:category_coalescence:minority_coalescer:minimum_fraction': 0.28144748021848814, 'data_preprocessing:numerical_transformer:rescaling:robust_scaler:q_max': 0.8771493204875395, 'data_preprocessing:numerical_transformer:rescaling:robust_scaler:q_min': 0.13693823573634356, 'feature_preprocessor:fast_ica:algorithm': 'deflation', 'feature_preprocessor:fast_ica:fun': 'cube', 'feature_preprocessor:fast_ica:whiten': 'False', 'regressor:random_forest:bootstrap': 'True', 'regressor:random_forest:criterion': 'friedman_mse', 'regressor:random_forest:max_depth': 'None', 'regressor:random_forest:max_features': 1.0, 'regressor:random_forest:max_leaf_nodes': 'None', 'regressor:random_forest:min_impurity_decrease': 0.0, 'regressor:random_forest:min_samples_leaf': 1, 'regressor:random_forest:min_samples_split': 2, 'regressor:random_forest:min_weight_fraction_leaf': 0.0},\\ndataset_properties={\\n  'task': 4,\\n  'sparse': False,\\n  'multioutput': False,\\n  'target_type': 'regression',\\n  'signed': False})),\\n(0.160000, SimpleRegressionPipeline({'data_preprocessing:categorical_transformer:categorical_encoding:__choice__': 'one_hot_encoding', 'data_preprocessing:categorical_transformer:category_coalescence:__choice__': 'no_coalescense', 'data_preprocessing:numerical_transformer:imputation:strategy': 'mean', 'data_preprocessing:numerical_transformer:rescaling:__choice__': 'standardize', 'feature_preprocessor:__choice__': 'extra_trees_preproc_for_regression', 'regressor:__choice__': 'mlp', 'feature_preprocessor:extra_trees_preproc_for_regression:bootstrap': 'False', 'feature_preprocessor:extra_trees_preproc_for_regression:criterion': 'mse', 'feature_preprocessor:extra_trees_preproc_for_regression:max_depth': 'None', 'feature_preprocessor:extra_trees_preproc_for_regression:max_features': 0.7631509999921062, 'feature_preprocessor:extra_trees_preproc_for_regression:max_leaf_nodes': 'None', 'feature_preprocessor:extra_trees_preproc_for_regression:min_samples_leaf': 2, 'feature_preprocessor:extra_trees_preproc_for_regression:min_samples_split': 2, 'feature_preprocessor:extra_trees_preproc_for_regression:min_weight_fraction_leaf': 0.0, 'feature_preprocessor:extra_trees_preproc_for_regression:n_estimators': 100, 'regressor:mlp:activation': 'relu', 'regressor:mlp:alpha': 6.037842605388564e-07, 'regressor:mlp:batch_size': 'auto', 'regressor:mlp:beta_1': 0.9, 'regressor:mlp:beta_2': 0.999, 'regressor:mlp:early_stopping': 'valid', 'regressor:mlp:epsilon': 1e-08, 'regressor:mlp:hidden_layer_depth': 3, 'regressor:mlp:learning_rate_init': 0.0001120732057918536, 'regressor:mlp:n_iter_no_change': 32, 'regressor:mlp:num_nodes_per_layer': 100, 'regressor:mlp:shuffle': 'True', 'regressor:mlp:solver': 'adam', 'regressor:mlp:tol': 0.0001, 'regressor:mlp:validation_fraction': 0.1},\\ndataset_properties={\\n  'task': 4,\\n  'sparse': False,\\n  'multioutput': False,\\n  'target_type': 'regression',\\n  'signed': False})),\\n(0.040000, SimpleRegressionPipeline({'data_preprocessing:categorical_transformer:categorical_encoding:__choice__': 'one_hot_encoding', 'data_preprocessing:categorical_transformer:category_coalescence:__choice__': 'minority_coalescer', 'data_preprocessing:numerical_transformer:imputation:strategy': 'median', 'data_preprocessing:numerical_transformer:rescaling:__choice__': 'robust_scaler', 'feature_preprocessor:__choice__': 'select_percentile_regression', 'regressor:__choice__': 'sgd', 'data_preprocessing:categorical_transformer:category_coalescence:minority_coalescer:minimum_fraction': 0.0013057623156653984, 'data_preprocessing:numerical_transformer:rescaling:robust_scaler:q_max': 0.7384386306109247, 'data_preprocessing:numerical_transformer:rescaling:robust_scaler:q_min': 0.13619830011156256, 'feature_preprocessor:select_percentile_regression:percentile': 47.935402876904554, 'feature_preprocessor:select_percentile_regression:score_func': 'f_regression', 'regressor:sgd:alpha': 3.1920798638358104e-06, 'regressor:sgd:average': 'True', 'regressor:sgd:fit_intercept': 'True', 'regressor:sgd:learning_rate': 'invscaling', 'regressor:sgd:loss': 'squared_epsilon_insensitive', 'regressor:sgd:penalty': 'l2', 'regressor:sgd:tol': 7.823786229838958e-05, 'regressor:sgd:epsilon': 0.1, 'regressor:sgd:eta0': 2.5662550861454332e-06, 'regressor:sgd:power_t': 0.16443692558514034},\\ndataset_properties={\\n  'task': 4,\\n  'sparse': False,\\n  'multioutput': False,\\n  'target_type': 'regression',\\n  'signed': False})),\\n]\""
            ]
          },
          "metadata": {},
          "execution_count": 10
        }
      ]
    },
    {
      "cell_type": "markdown",
      "metadata": {
        "id": "rM90taqCeATB"
      },
      "source": [
        "# **Prediction**"
      ]
    },
    {
      "cell_type": "code",
      "metadata": {
        "id": "ZLd4LcIKpTvC"
      },
      "source": [
        "label_treino = automl.predict(Xtreino)\n",
        "label_teste = automl.predict(Xteste)"
      ],
      "execution_count": 11,
      "outputs": []
    },
    {
      "cell_type": "code",
      "metadata": {
        "colab": {
          "base_uri": "https://localhost:8080/"
        },
        "id": "76fWKa-_qRau",
        "outputId": "6c4026f3-6758-4020-c521-6d70e62eeca6"
      },
      "source": [
        "print(f\"R2 score - treino: {sklearn.metrics.r2_score(ytreino, label_treino)}\",\n",
        "f\"\\nR2 score - teste: {sklearn.metrics.r2_score(yteste, label_teste)}\")"
      ],
      "execution_count": 12,
      "outputs": [
        {
          "output_type": "stream",
          "name": "stdout",
          "text": [
            "R2 score - treino: 0.8081553262474542 \n",
            "R2 score - teste: 0.529400122822655\n"
          ]
        }
      ]
    },
    {
      "cell_type": "markdown",
      "metadata": {
        "id": "jbetBxHUeJ5-"
      },
      "source": [
        "# **Dataviz**"
      ]
    },
    {
      "cell_type": "code",
      "metadata": {
        "id": "ym0sYLs1rRwx"
      },
      "source": [
        "vdc = []\n",
        "for x in Xteste.index:\n",
        "  a = Xteste.loc[x]['ano']\n",
        "  da = Xteste.loc[x]['diaAno']\n",
        "  dc = datetime.strptime(f'{a}' + \"-\" + f'{da}', \"%Y-%j\").strftime(\"%d-%m-%Y\")\n",
        "  vdc.append(dc)\n",
        "\n",
        "previsao = pd.DataFrame()\n",
        "previsao['Realizado'] = yteste.to_list()\n",
        "previsao['Previsão'] = label_teste.tolist()\n",
        "previsao['Período'] = vdc"
      ],
      "execution_count": 14,
      "outputs": []
    },
    {
      "cell_type": "code",
      "metadata": {
        "colab": {
          "base_uri": "https://localhost:8080/",
          "height": 542
        },
        "id": "8ijLsx1BfLBg",
        "outputId": "f6d31b11-773a-486d-cb6c-fb18b10c6bae"
      },
      "source": [
        "fig = go.Figure()\n",
        "fig.add_trace(go.Bar(x=previsao['Período'], y=previsao['Realizado'],\n",
        "                name='Realizado', marker_color='lightsalmon'))\n",
        "\n",
        "fig.add_trace(go.Scatter(x=previsao['Período'], y=previsao['Previsão'],\n",
        "                         mode='lines+markers',\n",
        "                         name='Previsão'))\n",
        "fig.update_layout(title='AutoML - Prever temperatura mínima',\n",
        "                  xaxis_title='Período',\n",
        "                  yaxis_title='Realizado',\n",
        "                  template='plotly_white',\n",
        "                  xaxis = dict(tickangle=80)\n",
        "                  )\n",
        "fig.show()"
      ],
      "execution_count": 22,
      "outputs": [
        {
          "output_type": "display_data",
          "data": {
            "text/html": [
              "<html>\n",
              "<head><meta charset=\"utf-8\" /></head>\n",
              "<body>\n",
              "    <div>\n",
              "            <script src=\"https://cdnjs.cloudflare.com/ajax/libs/mathjax/2.7.5/MathJax.js?config=TeX-AMS-MML_SVG\"></script><script type=\"text/javascript\">if (window.MathJax) {MathJax.Hub.Config({SVG: {font: \"STIX-Web\"}});}</script>\n",
              "                <script type=\"text/javascript\">window.PlotlyConfig = {MathJaxConfig: 'local'};</script>\n",
              "        <script src=\"https://cdn.plot.ly/plotly-latest.min.js\"></script>    \n",
              "            <div id=\"8de2922f-d4bf-49f3-a790-fb3a62ca2b35\" class=\"plotly-graph-div\" style=\"height:525px; width:100%;\"></div>\n",
              "            <script type=\"text/javascript\">\n",
              "                \n",
              "                    window.PLOTLYENV=window.PLOTLYENV || {};\n",
              "                    \n",
              "                if (document.getElementById(\"8de2922f-d4bf-49f3-a790-fb3a62ca2b35\")) {\n",
              "                    Plotly.newPlot(\n",
              "                        '8de2922f-d4bf-49f3-a790-fb3a62ca2b35',\n",
              "                        [{\"marker\": {\"color\": \"lightsalmon\"}, \"name\": \"Realizado\", \"type\": \"bar\", \"x\": [\"01-01-1990\", \"02-01-1990\", \"03-01-1990\", \"04-01-1990\", \"05-01-1990\", \"06-01-1990\", \"07-01-1990\", \"08-01-1990\", \"09-01-1990\", \"10-01-1990\", \"11-01-1990\", \"12-01-1990\", \"13-01-1990\", \"14-01-1990\", \"15-01-1990\", \"16-01-1990\", \"17-01-1990\", \"18-01-1990\", \"19-01-1990\", \"20-01-1990\", \"21-01-1990\", \"22-01-1990\", \"23-01-1990\", \"24-01-1990\", \"25-01-1990\", \"26-01-1990\", \"27-01-1990\", \"28-01-1990\", \"29-01-1990\", \"30-01-1990\", \"31-01-1990\", \"01-02-1990\", \"02-02-1990\", \"03-02-1990\", \"04-02-1990\", \"05-02-1990\", \"06-02-1990\", \"07-02-1990\", \"08-02-1990\", \"09-02-1990\", \"10-02-1990\", \"11-02-1990\", \"12-02-1990\", \"13-02-1990\", \"14-02-1990\", \"15-02-1990\", \"16-02-1990\", \"17-02-1990\", \"18-02-1990\", \"19-02-1990\", \"20-02-1990\", \"21-02-1990\", \"22-02-1990\", \"23-02-1990\", \"24-02-1990\", \"25-02-1990\", \"26-02-1990\", \"27-02-1990\", \"28-02-1990\", \"01-03-1990\", \"02-03-1990\", \"03-03-1990\", \"04-03-1990\", \"05-03-1990\", \"06-03-1990\", \"07-03-1990\", \"08-03-1990\", \"09-03-1990\", \"10-03-1990\", \"11-03-1990\", \"12-03-1990\", \"13-03-1990\", \"14-03-1990\", \"15-03-1990\", \"16-03-1990\", \"17-03-1990\", \"18-03-1990\", \"19-03-1990\", \"20-03-1990\", \"21-03-1990\", \"22-03-1990\", \"23-03-1990\", \"24-03-1990\", \"25-03-1990\", \"26-03-1990\", \"27-03-1990\", \"28-03-1990\", \"29-03-1990\", \"30-03-1990\", \"31-03-1990\", \"01-04-1990\", \"02-04-1990\", \"03-04-1990\", \"04-04-1990\", \"05-04-1990\", \"06-04-1990\", \"07-04-1990\", \"08-04-1990\", \"09-04-1990\", \"10-04-1990\", \"11-04-1990\", \"12-04-1990\", \"13-04-1990\", \"14-04-1990\", \"15-04-1990\", \"16-04-1990\", \"17-04-1990\", \"18-04-1990\", \"19-04-1990\", \"20-04-1990\", \"21-04-1990\", \"22-04-1990\", \"23-04-1990\", \"24-04-1990\", \"25-04-1990\", \"26-04-1990\", \"27-04-1990\", \"28-04-1990\", \"29-04-1990\", \"30-04-1990\", \"01-05-1990\", \"02-05-1990\", \"03-05-1990\", \"04-05-1990\", \"05-05-1990\", \"06-05-1990\", \"07-05-1990\", \"08-05-1990\", \"09-05-1990\", \"10-05-1990\", \"11-05-1990\", \"12-05-1990\", \"13-05-1990\", \"14-05-1990\", \"15-05-1990\", \"16-05-1990\", \"17-05-1990\", \"18-05-1990\", \"19-05-1990\", \"20-05-1990\", \"21-05-1990\", \"22-05-1990\", \"23-05-1990\", \"24-05-1990\", \"25-05-1990\", \"26-05-1990\", \"27-05-1990\", \"28-05-1990\", \"29-05-1990\", \"30-05-1990\", \"31-05-1990\", \"01-06-1990\", \"02-06-1990\", \"03-06-1990\", \"04-06-1990\", \"05-06-1990\", \"06-06-1990\", \"07-06-1990\", \"08-06-1990\", \"09-06-1990\", \"10-06-1990\", \"11-06-1990\", \"12-06-1990\", \"13-06-1990\", \"14-06-1990\", \"15-06-1990\", \"16-06-1990\", \"17-06-1990\", \"18-06-1990\", \"19-06-1990\", \"20-06-1990\", \"21-06-1990\", \"22-06-1990\", \"23-06-1990\", \"24-06-1990\", \"25-06-1990\", \"26-06-1990\", \"27-06-1990\", \"28-06-1990\", \"29-06-1990\", \"30-06-1990\", \"01-07-1990\", \"02-07-1990\", \"03-07-1990\", \"04-07-1990\", \"05-07-1990\", \"06-07-1990\", \"07-07-1990\", \"08-07-1990\", \"09-07-1990\", \"10-07-1990\", \"11-07-1990\", \"12-07-1990\", \"13-07-1990\", \"14-07-1990\", \"15-07-1990\", \"16-07-1990\", \"17-07-1990\", \"18-07-1990\", \"19-07-1990\", \"20-07-1990\", \"21-07-1990\", \"22-07-1990\", \"23-07-1990\", \"24-07-1990\", \"25-07-1990\", \"26-07-1990\", \"27-07-1990\", \"28-07-1990\", \"29-07-1990\", \"30-07-1990\", \"31-07-1990\", \"01-08-1990\", \"02-08-1990\", \"03-08-1990\", \"04-08-1990\", \"05-08-1990\", \"06-08-1990\", \"07-08-1990\", \"08-08-1990\", \"09-08-1990\", \"10-08-1990\", \"11-08-1990\", \"12-08-1990\", \"13-08-1990\", \"14-08-1990\", \"15-08-1990\", \"16-08-1990\", \"17-08-1990\", \"18-08-1990\", \"19-08-1990\", \"20-08-1990\", \"21-08-1990\", \"22-08-1990\", \"23-08-1990\", \"24-08-1990\", \"25-08-1990\", \"26-08-1990\", \"27-08-1990\", \"28-08-1990\", \"29-08-1990\", \"30-08-1990\", \"31-08-1990\", \"01-09-1990\", \"02-09-1990\", \"03-09-1990\", \"04-09-1990\", \"05-09-1990\", \"06-09-1990\", \"07-09-1990\", \"08-09-1990\", \"09-09-1990\", \"10-09-1990\", \"11-09-1990\", \"12-09-1990\", \"13-09-1990\", \"14-09-1990\", \"15-09-1990\", \"16-09-1990\", \"17-09-1990\", \"18-09-1990\", \"19-09-1990\", \"20-09-1990\", \"21-09-1990\", \"22-09-1990\", \"23-09-1990\", \"24-09-1990\", \"25-09-1990\", \"26-09-1990\", \"27-09-1990\", \"28-09-1990\", \"29-09-1990\", \"30-09-1990\", \"01-10-1990\", \"02-10-1990\", \"03-10-1990\", \"04-10-1990\", \"05-10-1990\", \"06-10-1990\", \"07-10-1990\", \"08-10-1990\", \"09-10-1990\", \"10-10-1990\", \"11-10-1990\", \"12-10-1990\", \"13-10-1990\", \"14-10-1990\", \"15-10-1990\", \"16-10-1990\", \"17-10-1990\", \"18-10-1990\", \"19-10-1990\", \"20-10-1990\", \"21-10-1990\", \"22-10-1990\", \"23-10-1990\", \"24-10-1990\", \"25-10-1990\", \"26-10-1990\", \"27-10-1990\", \"28-10-1990\", \"29-10-1990\", \"30-10-1990\", \"31-10-1990\", \"01-11-1990\", \"02-11-1990\", \"03-11-1990\", \"04-11-1990\", \"05-11-1990\", \"06-11-1990\", \"07-11-1990\", \"08-11-1990\", \"09-11-1990\", \"10-11-1990\", \"11-11-1990\", \"12-11-1990\", \"13-11-1990\", \"14-11-1990\", \"15-11-1990\", \"16-11-1990\", \"17-11-1990\", \"18-11-1990\", \"19-11-1990\", \"20-11-1990\", \"21-11-1990\", \"22-11-1990\", \"23-11-1990\", \"24-11-1990\", \"25-11-1990\", \"26-11-1990\", \"27-11-1990\", \"28-11-1990\", \"29-11-1990\", \"30-11-1990\", \"01-12-1990\", \"02-12-1990\", \"03-12-1990\", \"04-12-1990\", \"05-12-1990\", \"06-12-1990\", \"07-12-1990\", \"08-12-1990\", \"09-12-1990\", \"10-12-1990\", \"11-12-1990\", \"12-12-1990\", \"13-12-1990\", \"14-12-1990\", \"15-12-1990\", \"16-12-1990\", \"17-12-1990\", \"18-12-1990\", \"19-12-1990\", \"20-12-1990\", \"21-12-1990\", \"22-12-1990\", \"23-12-1990\", \"24-12-1990\", \"25-12-1990\", \"26-12-1990\", \"27-12-1990\", \"28-12-1990\", \"29-12-1990\", \"30-12-1990\", \"31-12-1990\"], \"y\": [14.8, 13.3, 15.6, 14.5, 14.3, 15.3, 16.4, 14.8, 17.4, 18.8, 22.1, 19.0, 15.5, 15.8, 14.7, 10.7, 11.5, 15.0, 14.5, 14.5, 13.3, 14.3, 14.3, 20.5, 15.0, 17.1, 16.9, 16.9, 13.6, 16.4, 16.1, 12.0, 12.2, 14.8, 14.8, 14.4, 12.9, 13.4, 15.9, 16.1, 17.6, 15.6, 15.0, 13.0, 14.1, 17.3, 15.7, 18.6, 12.7, 14.0, 13.7, 16.3, 20.0, 17.0, 15.2, 16.5, 16.5, 17.3, 19.1, 19.3, 17.3, 19.0, 19.8, 19.3, 17.2, 14.2, 10.3, 13.0, 15.3, 15.0, 12.1, 9.2, 11.0, 15.0, 11.6, 11.6, 15.1, 15.0, 13.6, 12.5, 14.3, 16.0, 17.4, 16.9, 18.0, 20.6, 14.2, 10.9, 11.9, 13.3, 15.3, 14.7, 11.0, 12.2, 14.2, 17.0, 15.8, 15.2, 15.1, 14.7, 18.5, 16.4, 18.4, 15.1, 9.9, 10.2, 12.6, 13.2, 11.5, 13.8, 14.5, 14.7, 11.2, 12.7, 13.7, 11.5, 10.4, 8.9, 11.1, 9.5, 13.0, 13.9, 12.6, 14.3, 16.0, 13.3, 7.0, 4.9, 6.9, 13.7, 10.6, 12.3, 11.1, 10.2, 9.5, 8.9, 13.4, 9.1, 9.4, 8.7, 5.8, 4.5, 7.2, 10.0, 10.5, 10.7, 8.2, 6.1, 4.5, 6.1, 9.8, 9.7, 8.2, 8.4, 8.5, 10.4, 6.8, 6.0, 6.6, 7.8, 10.3, 7.2, 7.4, 11.4, 5.4, 4.4, 6.4, 9.3, 7.7, 8.1, 8.3, 9.1, 7.7, 10.6, 8.2, 7.9, 5.2, 5.9, 3.7, 5.6, 9.4, 7.4, 7.3, 7.7, 7.7, 9.3, 4.4, 5.7, 10.2, 10.2, 9.3, 5.4, 5.0, 7.6, 9.6, 10.4, 11.2, 9.1, 11.2, 6.8, 8.3, 9.7, 9.6, 9.8, 10.8, 9.2, 6.5, 8.1, 7.3, 7.9, 6.0, 5.0, 6.8, 9.8, 5.7, 8.6, 10.6, 7.8, 7.7, 8.6, 6.5, 6.9, 6.4, 8.5, 7.8, 9.3, 8.4, 7.8, 7.4, 7.7, 8.9, 9.7, 9.9, 6.1, 6.6, 7.6, 7.4, 8.0, 2.1, 5.9, 11.6, 8.6, 7.9, 6.0, 9.5, 8.6, 7.6, 10.4, 10.3, 7.5, 3.0, 5.3, 10.5, 14.6, 12.6, 9.8, 7.2, 10.1, 10.4, 3.7, 7.3, 11.6, 16.3, 9.6, 6.8, 5.2, 10.6, 16.3, 9.8, 4.6, 11.1, 8.7, 10.0, 11.3, 10.5, 9.9, 11.0, 14.0, 9.2, 9.8, 6.0, 9.8, 9.2, 11.8, 10.3, 7.5, 7.7, 15.8, 14.6, 10.5, 11.3, 10.9, 6.4, 10.9, 9.0, 10.9, 12.4, 11.6, 13.3, 14.4, 18.4, 13.6, 14.9, 14.8, 15.4, 11.8, 13.0, 11.1, 12.5, 18.3, 19.2, 15.4, 13.1, 11.5, 8.6, 12.6, 13.8, 14.6, 13.2, 12.3, 8.8, 10.7, 9.9, 8.3, 15.0, 12.2, 10.5, 11.1, 13.0, 12.9, 8.8, 14.7, 14.7, 12.7, 13.3, 13.2, 16.2, 17.3, 20.5, 20.2, 19.4, 15.5, 14.1, 11.0, 11.1, 14.0, 11.4, 12.5, 13.4, 13.6, 13.9, 17.2, 14.7, 15.4, 13.1, 13.2, 13.9, 10.0, 12.9, 14.6, 14.0, 13.6, 13.5, 15.7, 13.0]}, {\"mode\": \"lines+markers\", \"name\": \"Previs\\u00e3o\", \"type\": \"scatter\", \"x\": [\"01-01-1990\", \"02-01-1990\", \"03-01-1990\", \"04-01-1990\", \"05-01-1990\", \"06-01-1990\", \"07-01-1990\", \"08-01-1990\", \"09-01-1990\", \"10-01-1990\", \"11-01-1990\", \"12-01-1990\", \"13-01-1990\", \"14-01-1990\", \"15-01-1990\", \"16-01-1990\", \"17-01-1990\", \"18-01-1990\", \"19-01-1990\", \"20-01-1990\", \"21-01-1990\", \"22-01-1990\", \"23-01-1990\", \"24-01-1990\", \"25-01-1990\", \"26-01-1990\", \"27-01-1990\", \"28-01-1990\", \"29-01-1990\", \"30-01-1990\", \"31-01-1990\", \"01-02-1990\", \"02-02-1990\", \"03-02-1990\", \"04-02-1990\", \"05-02-1990\", \"06-02-1990\", \"07-02-1990\", \"08-02-1990\", \"09-02-1990\", \"10-02-1990\", \"11-02-1990\", \"12-02-1990\", \"13-02-1990\", \"14-02-1990\", \"15-02-1990\", \"16-02-1990\", \"17-02-1990\", \"18-02-1990\", \"19-02-1990\", \"20-02-1990\", \"21-02-1990\", \"22-02-1990\", \"23-02-1990\", \"24-02-1990\", \"25-02-1990\", \"26-02-1990\", \"27-02-1990\", \"28-02-1990\", \"01-03-1990\", \"02-03-1990\", \"03-03-1990\", \"04-03-1990\", \"05-03-1990\", \"06-03-1990\", \"07-03-1990\", \"08-03-1990\", \"09-03-1990\", \"10-03-1990\", \"11-03-1990\", \"12-03-1990\", \"13-03-1990\", \"14-03-1990\", \"15-03-1990\", \"16-03-1990\", \"17-03-1990\", \"18-03-1990\", \"19-03-1990\", \"20-03-1990\", \"21-03-1990\", \"22-03-1990\", \"23-03-1990\", \"24-03-1990\", \"25-03-1990\", \"26-03-1990\", \"27-03-1990\", \"28-03-1990\", \"29-03-1990\", \"30-03-1990\", \"31-03-1990\", \"01-04-1990\", \"02-04-1990\", \"03-04-1990\", \"04-04-1990\", \"05-04-1990\", \"06-04-1990\", \"07-04-1990\", \"08-04-1990\", \"09-04-1990\", \"10-04-1990\", \"11-04-1990\", \"12-04-1990\", \"13-04-1990\", \"14-04-1990\", \"15-04-1990\", \"16-04-1990\", \"17-04-1990\", \"18-04-1990\", \"19-04-1990\", \"20-04-1990\", \"21-04-1990\", \"22-04-1990\", \"23-04-1990\", \"24-04-1990\", \"25-04-1990\", \"26-04-1990\", \"27-04-1990\", \"28-04-1990\", \"29-04-1990\", \"30-04-1990\", \"01-05-1990\", \"02-05-1990\", \"03-05-1990\", \"04-05-1990\", \"05-05-1990\", \"06-05-1990\", \"07-05-1990\", \"08-05-1990\", \"09-05-1990\", \"10-05-1990\", \"11-05-1990\", \"12-05-1990\", \"13-05-1990\", \"14-05-1990\", \"15-05-1990\", \"16-05-1990\", \"17-05-1990\", \"18-05-1990\", \"19-05-1990\", \"20-05-1990\", \"21-05-1990\", \"22-05-1990\", \"23-05-1990\", \"24-05-1990\", \"25-05-1990\", \"26-05-1990\", \"27-05-1990\", \"28-05-1990\", \"29-05-1990\", \"30-05-1990\", \"31-05-1990\", \"01-06-1990\", \"02-06-1990\", \"03-06-1990\", \"04-06-1990\", \"05-06-1990\", \"06-06-1990\", \"07-06-1990\", \"08-06-1990\", \"09-06-1990\", \"10-06-1990\", \"11-06-1990\", \"12-06-1990\", \"13-06-1990\", \"14-06-1990\", \"15-06-1990\", \"16-06-1990\", \"17-06-1990\", \"18-06-1990\", \"19-06-1990\", \"20-06-1990\", \"21-06-1990\", \"22-06-1990\", \"23-06-1990\", \"24-06-1990\", \"25-06-1990\", \"26-06-1990\", \"27-06-1990\", \"28-06-1990\", \"29-06-1990\", \"30-06-1990\", \"01-07-1990\", \"02-07-1990\", \"03-07-1990\", \"04-07-1990\", \"05-07-1990\", \"06-07-1990\", \"07-07-1990\", \"08-07-1990\", \"09-07-1990\", \"10-07-1990\", \"11-07-1990\", \"12-07-1990\", \"13-07-1990\", \"14-07-1990\", \"15-07-1990\", \"16-07-1990\", \"17-07-1990\", \"18-07-1990\", \"19-07-1990\", \"20-07-1990\", \"21-07-1990\", \"22-07-1990\", \"23-07-1990\", \"24-07-1990\", \"25-07-1990\", \"26-07-1990\", \"27-07-1990\", \"28-07-1990\", \"29-07-1990\", \"30-07-1990\", \"31-07-1990\", \"01-08-1990\", \"02-08-1990\", \"03-08-1990\", \"04-08-1990\", \"05-08-1990\", \"06-08-1990\", \"07-08-1990\", \"08-08-1990\", \"09-08-1990\", \"10-08-1990\", \"11-08-1990\", \"12-08-1990\", \"13-08-1990\", \"14-08-1990\", \"15-08-1990\", \"16-08-1990\", \"17-08-1990\", \"18-08-1990\", \"19-08-1990\", \"20-08-1990\", \"21-08-1990\", \"22-08-1990\", \"23-08-1990\", \"24-08-1990\", \"25-08-1990\", \"26-08-1990\", \"27-08-1990\", \"28-08-1990\", \"29-08-1990\", \"30-08-1990\", \"31-08-1990\", \"01-09-1990\", \"02-09-1990\", \"03-09-1990\", \"04-09-1990\", \"05-09-1990\", \"06-09-1990\", \"07-09-1990\", \"08-09-1990\", \"09-09-1990\", \"10-09-1990\", \"11-09-1990\", \"12-09-1990\", \"13-09-1990\", \"14-09-1990\", \"15-09-1990\", \"16-09-1990\", \"17-09-1990\", \"18-09-1990\", \"19-09-1990\", \"20-09-1990\", \"21-09-1990\", \"22-09-1990\", \"23-09-1990\", \"24-09-1990\", \"25-09-1990\", \"26-09-1990\", \"27-09-1990\", \"28-09-1990\", \"29-09-1990\", \"30-09-1990\", \"01-10-1990\", \"02-10-1990\", \"03-10-1990\", \"04-10-1990\", \"05-10-1990\", \"06-10-1990\", \"07-10-1990\", \"08-10-1990\", \"09-10-1990\", \"10-10-1990\", \"11-10-1990\", \"12-10-1990\", \"13-10-1990\", \"14-10-1990\", \"15-10-1990\", \"16-10-1990\", \"17-10-1990\", \"18-10-1990\", \"19-10-1990\", \"20-10-1990\", \"21-10-1990\", \"22-10-1990\", \"23-10-1990\", \"24-10-1990\", \"25-10-1990\", \"26-10-1990\", \"27-10-1990\", \"28-10-1990\", \"29-10-1990\", \"30-10-1990\", \"31-10-1990\", \"01-11-1990\", \"02-11-1990\", \"03-11-1990\", \"04-11-1990\", \"05-11-1990\", \"06-11-1990\", \"07-11-1990\", \"08-11-1990\", \"09-11-1990\", \"10-11-1990\", \"11-11-1990\", \"12-11-1990\", \"13-11-1990\", \"14-11-1990\", \"15-11-1990\", \"16-11-1990\", \"17-11-1990\", \"18-11-1990\", \"19-11-1990\", \"20-11-1990\", \"21-11-1990\", \"22-11-1990\", \"23-11-1990\", \"24-11-1990\", \"25-11-1990\", \"26-11-1990\", \"27-11-1990\", \"28-11-1990\", \"29-11-1990\", \"30-11-1990\", \"01-12-1990\", \"02-12-1990\", \"03-12-1990\", \"04-12-1990\", \"05-12-1990\", \"06-12-1990\", \"07-12-1990\", \"08-12-1990\", \"09-12-1990\", \"10-12-1990\", \"11-12-1990\", \"12-12-1990\", \"13-12-1990\", \"14-12-1990\", \"15-12-1990\", \"16-12-1990\", \"17-12-1990\", \"18-12-1990\", \"19-12-1990\", \"20-12-1990\", \"21-12-1990\", \"22-12-1990\", \"23-12-1990\", \"24-12-1990\", \"25-12-1990\", \"26-12-1990\", \"27-12-1990\", \"28-12-1990\", \"29-12-1990\", \"30-12-1990\", \"31-12-1990\"], \"y\": [15.530524849891663, 15.940223574638367, 15.312190651893616, 14.785990536212921, 14.15758615732193, 13.72866040468216, 14.639965057373047, 15.422920942306519, 15.377530336380005, 14.791916072368622, 14.52654618024826, 14.429762303829193, 14.623298525810242, 15.012811541557312, 15.327029347419739, 15.43196326494217, 15.518857061862946, 15.446270763874054, 15.227751731872559, 14.987549066543579, 14.761291027069092, 14.774158418178558, 15.03248780965805, 15.601418435573578, 16.40247243642807, 16.779141068458557, 16.812373518943787, 16.895594000816345, 16.70730286836624, 16.26370859146118, 15.823261260986328, 15.46886682510376, 15.215196311473846, 15.599396646022797, 15.733012616634369, 15.639505505561829, 15.600430607795715, 15.920226693153381, 16.190605461597443, 16.257413685321808, 16.41312938928604, 16.533818244934082, 16.53020453453064, 16.492849826812744, 16.50229448080063, 16.54416126012802, 16.344492614269257, 16.234346330165863, 15.859911322593689, 15.574105858802795, 15.329191535711288, 15.559300988912582, 15.930035889148712, 16.432651072740555, 16.701493054628372, 16.87458300590515, 16.91364023089409, 17.185807913541794, 17.6105517745018, 17.982206255197525, 18.062574058771133, 17.722286343574524, 17.4359470307827, 17.20157417654991, 16.89225560426712, 16.687903225421906, 16.539955884218216, 16.329766035079956, 15.838703393936157, 15.299836844205856, 14.840356051921844, 14.604599356651306, 14.478018164634705, 14.188932985067368, 13.893255800008774, 13.479065001010895, 13.512141734361649, 13.523200780153275, 13.641026258468628, 13.491379231214523, 13.416671723127365, 13.37205857038498, 12.836613327264786, 12.488121420145035, 12.072486519813538, 12.08502396941185, 12.249097675085068, 12.367770493030548, 12.767979443073273, 13.10569766163826, 13.3922278881073, 13.609890460968018, 13.434708565473557, 13.223499953746796, 12.817056357860565, 12.497335344552994, 12.284311890602112, 11.986599802970886, 11.62643763422966, 11.427524536848068, 11.691168248653412, 11.8508919775486, 11.92336717247963, 11.863509774208069, 11.541082233190536, 11.18958005309105, 11.014168679714203, 10.804474145174026, 10.699201494455338, 10.772525429725647, 10.84945759177208, 10.921637028455734, 10.910989224910736, 10.888977646827698, 11.505383729934692, 11.943524569272995, 12.151053607463837, 12.13814789056778, 12.12583413720131, 11.954910635948181, 11.84845221042633, 11.802265375852585, 11.724965780973434, 11.7598357796669, 11.459943681955338, 11.094474703073502, 10.870898127555847, 10.810751765966415, 10.890815109014511, 11.042159140110016, 11.111570745706558, 10.921483546495438, 10.63564682006836, 10.315773695707321, 9.842518776655197, 9.700334966182709, 9.500108659267426, 9.61925294995308, 9.415520310401917, 8.652212500572205, 7.996553152799606, 8.232890784740448, 8.576761424541473, 8.630866080522537, 8.61673653125763, 8.655546307563782, 8.882670611143112, 8.905107110738754, 8.867097318172455, 8.98038998246193, 8.181149989366531, 7.212059855461121, 7.233568400144577, 6.994789689779282, 7.648340165615082, 7.925469666719437, 7.762137621641159, 7.713928550481796, 7.6020068526268005, 7.403425395488739, 7.515865117311478, 7.455618500709534, 7.218255996704102, 7.1107304990291595, 7.222797691822052, 7.273403704166412, 7.21438804268837, 7.236345529556274, 6.849807262420654, 6.6527412831783295, 6.389558285474777, 6.086351573467255, 5.777083784341812, 5.53760090470314, 5.445005655288696, 5.331859797239304, 5.11755034327507, 5.135530650615692, 5.251854211091995, 5.590593248605728, 6.457128643989563, 6.623498320579529, 6.728839248418808, 6.834595739841461, 6.655923783779144, 6.649652034044266, 6.686195492744446, 6.763696789741516, 6.915426343679428, 7.035149395465851, 6.924141705036163, 6.719520002603531, 6.591009855270386, 6.441745042800903, 5.911097377538681, 5.632839053869247, 5.797505676746368, 5.954777628183365, 6.314774304628372, 6.508165568113327, 6.534805119037628, 6.452104955911636, 6.401088625192642, 6.3060622215271, 6.626863956451416, 6.9715196788311005, 6.8034310936927795, 7.10579127073288, 7.478811651468277, 7.4240559339523315, 7.382238745689392, 7.325802057981491, 7.29963344335556, 7.272401988506317, 7.294109731912613, 7.30841600894928, 7.273396730422974, 7.249936908483505, 7.198965519666672, 7.105171740055084, 7.263549834489822, 7.418729335069656, 7.224809169769287, 7.276230543851852, 6.973031133413315, 6.895790874958038, 7.163253933191299, 7.308271437883377, 7.362197399139404, 7.383482813835144, 7.473787754774094, 7.581338942050934, 7.517541229724884, 7.715976744890213, 7.695364713668823, 7.606466054916382, 7.622552961111069, 7.598490297794342, 7.661679208278656, 7.665112763643265, 7.7508158683776855, 7.835123062133789, 8.166866719722748, 8.25789013504982, 8.253950744867325, 7.981410622596741, 8.125839322805405, 8.235252231359482, 8.138507664203644, 7.881873279809952, 8.320247679948807, 9.390408039093018, 8.955769062042236, 8.67677590250969, 8.593729436397552, 8.535820424556732, 8.499796658754349, 8.690916895866394, 8.870404601097107, 9.03975436091423, 9.041321575641632, 9.049207150936127, 8.968853384256363, 8.83773124217987, 9.350329875946045, 8.896978586912155, 8.644340127706528, 8.896368324756622, 9.040112167596817, 8.899264365434647, 8.75449025630951, 9.3097765147686, 9.806871503591537, 9.554516971111298, 9.412179261446, 9.13668242096901, 10.103421688079834, 10.101547479629517, 9.962578147649765, 9.611200630664825, 10.044726312160492, 10.118886262178421, 10.237205028533936, 10.398863554000854, 10.461633294820786, 10.365820199251175, 10.210977554321289, 10.420253872871399, 10.422853916883469, 10.340434402227402, 11.030053555965424, 10.916566282510757, 10.889422684907913, 11.113466024398804, 10.838544815778732, 11.009301036596298, 11.000352799892426, 11.10768809914589, 10.952076345682144, 10.572915434837341, 10.535942196846008, 10.660237282514572, 10.791870057582855, 10.815859019756317, 11.253484636545181, 12.194392204284668, 12.111485958099365, 12.691069573163986, 12.986033618450165, 12.679085552692413, 12.416574150323868, 12.438234120607376, 12.272947430610657, 12.377841085195541, 12.681292027235031, 12.835748612880707, 12.948198467493057, 13.022584587335587, 13.320271611213684, 13.429603189229965, 13.644911259412766, 13.15478390455246, 13.189800411462784, 13.378931194543839, 13.491245865821838, 13.566790699958801, 13.825388044118881, 14.315893709659576, 14.224738359451294, 14.350702285766602, 14.751760214567184, 14.577325999736786, 14.8776895403862, 14.918944269418716, 14.82894054055214, 14.773998379707336, 14.336264461278915, 14.201988071203232, 13.92893534898758, 14.304440051317215, 14.71639969944954, 14.830693483352661, 14.90258452296257, 15.100842922925949, 14.67404454946518, 14.346821457147598, 14.090018182992935, 14.282766461372375, 14.801127076148987, 15.03232654929161, 15.133842051029205, 14.828902781009674, 14.553660899400711, 13.961576700210571, 13.70627236366272, 13.694593876600266, 13.842948138713837, 14.147859990596771, 14.664929538965225, 14.572042137384415, 14.224854111671448, 14.186641067266464, 14.226635545492172, 14.361852943897247, 14.537001639604568]}],\n",
              "                        {\"template\": {\"data\": {\"bar\": [{\"error_x\": {\"color\": \"#2a3f5f\"}, \"error_y\": {\"color\": \"#2a3f5f\"}, \"marker\": {\"line\": {\"color\": \"white\", \"width\": 0.5}}, \"type\": \"bar\"}], \"barpolar\": [{\"marker\": {\"line\": {\"color\": \"white\", \"width\": 0.5}}, \"type\": \"barpolar\"}], \"carpet\": [{\"aaxis\": {\"endlinecolor\": \"#2a3f5f\", \"gridcolor\": \"#C8D4E3\", \"linecolor\": \"#C8D4E3\", \"minorgridcolor\": \"#C8D4E3\", \"startlinecolor\": \"#2a3f5f\"}, \"baxis\": {\"endlinecolor\": \"#2a3f5f\", \"gridcolor\": \"#C8D4E3\", \"linecolor\": \"#C8D4E3\", \"minorgridcolor\": \"#C8D4E3\", \"startlinecolor\": \"#2a3f5f\"}, \"type\": \"carpet\"}], \"choropleth\": [{\"colorbar\": {\"outlinewidth\": 0, \"ticks\": \"\"}, \"type\": \"choropleth\"}], \"contour\": [{\"colorbar\": {\"outlinewidth\": 0, \"ticks\": \"\"}, \"colorscale\": [[0.0, \"#0d0887\"], [0.1111111111111111, \"#46039f\"], [0.2222222222222222, \"#7201a8\"], [0.3333333333333333, \"#9c179e\"], [0.4444444444444444, \"#bd3786\"], [0.5555555555555556, \"#d8576b\"], [0.6666666666666666, \"#ed7953\"], [0.7777777777777778, \"#fb9f3a\"], [0.8888888888888888, \"#fdca26\"], [1.0, \"#f0f921\"]], \"type\": \"contour\"}], \"contourcarpet\": [{\"colorbar\": {\"outlinewidth\": 0, \"ticks\": \"\"}, \"type\": \"contourcarpet\"}], \"heatmap\": [{\"colorbar\": {\"outlinewidth\": 0, \"ticks\": \"\"}, \"colorscale\": [[0.0, \"#0d0887\"], [0.1111111111111111, \"#46039f\"], [0.2222222222222222, \"#7201a8\"], [0.3333333333333333, \"#9c179e\"], [0.4444444444444444, \"#bd3786\"], [0.5555555555555556, \"#d8576b\"], [0.6666666666666666, \"#ed7953\"], [0.7777777777777778, \"#fb9f3a\"], [0.8888888888888888, \"#fdca26\"], [1.0, \"#f0f921\"]], \"type\": \"heatmap\"}], \"heatmapgl\": [{\"colorbar\": {\"outlinewidth\": 0, \"ticks\": \"\"}, \"colorscale\": [[0.0, \"#0d0887\"], [0.1111111111111111, \"#46039f\"], [0.2222222222222222, \"#7201a8\"], [0.3333333333333333, \"#9c179e\"], [0.4444444444444444, \"#bd3786\"], [0.5555555555555556, \"#d8576b\"], [0.6666666666666666, \"#ed7953\"], [0.7777777777777778, \"#fb9f3a\"], [0.8888888888888888, \"#fdca26\"], [1.0, \"#f0f921\"]], \"type\": \"heatmapgl\"}], \"histogram\": [{\"marker\": {\"colorbar\": {\"outlinewidth\": 0, \"ticks\": \"\"}}, \"type\": \"histogram\"}], \"histogram2d\": [{\"colorbar\": {\"outlinewidth\": 0, \"ticks\": \"\"}, \"colorscale\": [[0.0, \"#0d0887\"], [0.1111111111111111, \"#46039f\"], [0.2222222222222222, \"#7201a8\"], [0.3333333333333333, \"#9c179e\"], [0.4444444444444444, \"#bd3786\"], [0.5555555555555556, \"#d8576b\"], [0.6666666666666666, \"#ed7953\"], [0.7777777777777778, \"#fb9f3a\"], [0.8888888888888888, \"#fdca26\"], [1.0, \"#f0f921\"]], \"type\": \"histogram2d\"}], \"histogram2dcontour\": [{\"colorbar\": {\"outlinewidth\": 0, \"ticks\": \"\"}, \"colorscale\": [[0.0, \"#0d0887\"], [0.1111111111111111, \"#46039f\"], [0.2222222222222222, \"#7201a8\"], [0.3333333333333333, \"#9c179e\"], [0.4444444444444444, \"#bd3786\"], [0.5555555555555556, \"#d8576b\"], [0.6666666666666666, \"#ed7953\"], [0.7777777777777778, \"#fb9f3a\"], [0.8888888888888888, \"#fdca26\"], [1.0, \"#f0f921\"]], \"type\": \"histogram2dcontour\"}], \"mesh3d\": [{\"colorbar\": {\"outlinewidth\": 0, \"ticks\": \"\"}, \"type\": \"mesh3d\"}], \"parcoords\": [{\"line\": {\"colorbar\": {\"outlinewidth\": 0, \"ticks\": \"\"}}, \"type\": \"parcoords\"}], \"pie\": [{\"automargin\": true, \"type\": \"pie\"}], \"scatter\": [{\"marker\": {\"colorbar\": {\"outlinewidth\": 0, \"ticks\": \"\"}}, \"type\": \"scatter\"}], \"scatter3d\": [{\"line\": {\"colorbar\": {\"outlinewidth\": 0, \"ticks\": \"\"}}, \"marker\": {\"colorbar\": {\"outlinewidth\": 0, \"ticks\": \"\"}}, \"type\": \"scatter3d\"}], \"scattercarpet\": [{\"marker\": {\"colorbar\": {\"outlinewidth\": 0, \"ticks\": \"\"}}, \"type\": \"scattercarpet\"}], \"scattergeo\": [{\"marker\": {\"colorbar\": {\"outlinewidth\": 0, \"ticks\": \"\"}}, \"type\": \"scattergeo\"}], \"scattergl\": [{\"marker\": {\"colorbar\": {\"outlinewidth\": 0, \"ticks\": \"\"}}, \"type\": \"scattergl\"}], \"scattermapbox\": [{\"marker\": {\"colorbar\": {\"outlinewidth\": 0, \"ticks\": \"\"}}, \"type\": \"scattermapbox\"}], \"scatterpolar\": [{\"marker\": {\"colorbar\": {\"outlinewidth\": 0, \"ticks\": \"\"}}, \"type\": \"scatterpolar\"}], \"scatterpolargl\": [{\"marker\": {\"colorbar\": {\"outlinewidth\": 0, \"ticks\": \"\"}}, \"type\": \"scatterpolargl\"}], \"scatterternary\": [{\"marker\": {\"colorbar\": {\"outlinewidth\": 0, \"ticks\": \"\"}}, \"type\": \"scatterternary\"}], \"surface\": [{\"colorbar\": {\"outlinewidth\": 0, \"ticks\": \"\"}, \"colorscale\": [[0.0, \"#0d0887\"], [0.1111111111111111, \"#46039f\"], [0.2222222222222222, \"#7201a8\"], [0.3333333333333333, \"#9c179e\"], [0.4444444444444444, \"#bd3786\"], [0.5555555555555556, \"#d8576b\"], [0.6666666666666666, \"#ed7953\"], [0.7777777777777778, \"#fb9f3a\"], [0.8888888888888888, \"#fdca26\"], [1.0, \"#f0f921\"]], \"type\": \"surface\"}], \"table\": [{\"cells\": {\"fill\": {\"color\": \"#EBF0F8\"}, \"line\": {\"color\": \"white\"}}, \"header\": {\"fill\": {\"color\": \"#C8D4E3\"}, \"line\": {\"color\": \"white\"}}, \"type\": \"table\"}]}, \"layout\": {\"annotationdefaults\": {\"arrowcolor\": \"#2a3f5f\", \"arrowhead\": 0, \"arrowwidth\": 1}, \"coloraxis\": {\"colorbar\": {\"outlinewidth\": 0, \"ticks\": \"\"}}, \"colorscale\": {\"diverging\": [[0, \"#8e0152\"], [0.1, \"#c51b7d\"], [0.2, \"#de77ae\"], [0.3, \"#f1b6da\"], [0.4, \"#fde0ef\"], [0.5, \"#f7f7f7\"], [0.6, \"#e6f5d0\"], [0.7, \"#b8e186\"], [0.8, \"#7fbc41\"], [0.9, \"#4d9221\"], [1, \"#276419\"]], \"sequential\": [[0.0, \"#0d0887\"], [0.1111111111111111, \"#46039f\"], [0.2222222222222222, \"#7201a8\"], [0.3333333333333333, \"#9c179e\"], [0.4444444444444444, \"#bd3786\"], [0.5555555555555556, \"#d8576b\"], [0.6666666666666666, \"#ed7953\"], [0.7777777777777778, \"#fb9f3a\"], [0.8888888888888888, \"#fdca26\"], [1.0, \"#f0f921\"]], \"sequentialminus\": [[0.0, \"#0d0887\"], [0.1111111111111111, \"#46039f\"], [0.2222222222222222, \"#7201a8\"], [0.3333333333333333, \"#9c179e\"], [0.4444444444444444, \"#bd3786\"], [0.5555555555555556, \"#d8576b\"], [0.6666666666666666, \"#ed7953\"], [0.7777777777777778, \"#fb9f3a\"], [0.8888888888888888, \"#fdca26\"], [1.0, \"#f0f921\"]]}, \"colorway\": [\"#636efa\", \"#EF553B\", \"#00cc96\", \"#ab63fa\", \"#FFA15A\", \"#19d3f3\", \"#FF6692\", \"#B6E880\", \"#FF97FF\", \"#FECB52\"], \"font\": {\"color\": \"#2a3f5f\"}, \"geo\": {\"bgcolor\": \"white\", \"lakecolor\": \"white\", \"landcolor\": \"white\", \"showlakes\": true, \"showland\": true, \"subunitcolor\": \"#C8D4E3\"}, \"hoverlabel\": {\"align\": \"left\"}, \"hovermode\": \"closest\", \"mapbox\": {\"style\": \"light\"}, \"paper_bgcolor\": \"white\", \"plot_bgcolor\": \"white\", \"polar\": {\"angularaxis\": {\"gridcolor\": \"#EBF0F8\", \"linecolor\": \"#EBF0F8\", \"ticks\": \"\"}, \"bgcolor\": \"white\", \"radialaxis\": {\"gridcolor\": \"#EBF0F8\", \"linecolor\": \"#EBF0F8\", \"ticks\": \"\"}}, \"scene\": {\"xaxis\": {\"backgroundcolor\": \"white\", \"gridcolor\": \"#DFE8F3\", \"gridwidth\": 2, \"linecolor\": \"#EBF0F8\", \"showbackground\": true, \"ticks\": \"\", \"zerolinecolor\": \"#EBF0F8\"}, \"yaxis\": {\"backgroundcolor\": \"white\", \"gridcolor\": \"#DFE8F3\", \"gridwidth\": 2, \"linecolor\": \"#EBF0F8\", \"showbackground\": true, \"ticks\": \"\", \"zerolinecolor\": \"#EBF0F8\"}, \"zaxis\": {\"backgroundcolor\": \"white\", \"gridcolor\": \"#DFE8F3\", \"gridwidth\": 2, \"linecolor\": \"#EBF0F8\", \"showbackground\": true, \"ticks\": \"\", \"zerolinecolor\": \"#EBF0F8\"}}, \"shapedefaults\": {\"line\": {\"color\": \"#2a3f5f\"}}, \"ternary\": {\"aaxis\": {\"gridcolor\": \"#DFE8F3\", \"linecolor\": \"#A2B1C6\", \"ticks\": \"\"}, \"baxis\": {\"gridcolor\": \"#DFE8F3\", \"linecolor\": \"#A2B1C6\", \"ticks\": \"\"}, \"bgcolor\": \"white\", \"caxis\": {\"gridcolor\": \"#DFE8F3\", \"linecolor\": \"#A2B1C6\", \"ticks\": \"\"}}, \"title\": {\"x\": 0.05}, \"xaxis\": {\"automargin\": true, \"gridcolor\": \"#EBF0F8\", \"linecolor\": \"#EBF0F8\", \"ticks\": \"\", \"title\": {\"standoff\": 15}, \"zerolinecolor\": \"#EBF0F8\", \"zerolinewidth\": 2}, \"yaxis\": {\"automargin\": true, \"gridcolor\": \"#EBF0F8\", \"linecolor\": \"#EBF0F8\", \"ticks\": \"\", \"title\": {\"standoff\": 15}, \"zerolinecolor\": \"#EBF0F8\", \"zerolinewidth\": 2}}}, \"title\": {\"text\": \"AutoML - Prever temperatura m\\u00ednima\"}, \"xaxis\": {\"tickangle\": 80, \"title\": {\"text\": \"Per\\u00edodo\"}}, \"yaxis\": {\"title\": {\"text\": \"Realizado\"}}},\n",
              "                        {\"responsive\": true}\n",
              "                    ).then(function(){\n",
              "                            \n",
              "var gd = document.getElementById('8de2922f-d4bf-49f3-a790-fb3a62ca2b35');\n",
              "var x = new MutationObserver(function (mutations, observer) {{\n",
              "        var display = window.getComputedStyle(gd).display;\n",
              "        if (!display || display === 'none') {{\n",
              "            console.log([gd, 'removed!']);\n",
              "            Plotly.purge(gd);\n",
              "            observer.disconnect();\n",
              "        }}\n",
              "}});\n",
              "\n",
              "// Listen for the removal of the full notebook cells\n",
              "var notebookContainer = gd.closest('#notebook-container');\n",
              "if (notebookContainer) {{\n",
              "    x.observe(notebookContainer, {childList: true});\n",
              "}}\n",
              "\n",
              "// Listen for the clearing of the current output cell\n",
              "var outputEl = gd.closest('.output');\n",
              "if (outputEl) {{\n",
              "    x.observe(outputEl, {childList: true});\n",
              "}}\n",
              "\n",
              "                        })\n",
              "                };\n",
              "                \n",
              "            </script>\n",
              "        </div>\n",
              "</body>\n",
              "</html>"
            ]
          },
          "metadata": {}
        }
      ]
    }
  ]
}